{
 "cells": [
  {
   "cell_type": "code",
   "execution_count": 1,
   "metadata": {},
   "outputs": [],
   "source": [
    "import pybamm as pb\n",
    "import pandas as pd\n",
    "import numpy as np"
   ]
  },
  {
   "cell_type": "code",
   "execution_count": 2,
   "metadata": {},
   "outputs": [],
   "source": [
    "chemistry={\n",
    "    \"chemistry\": \"lithium-ion\",\n",
    "    \"cell\": \"A123_Lain2019\",\n",
    "    \"anode\": \"graphite_Chen2020\",\n",
    "    \"separator\": \"separator_Chen2020\",\n",
    "    \"cathode\": \"LFP_Prada2013\",\n",
    "    \"electrolyte\": \"lipf6_Nyman2008\",\n",
    "    \"experiment\": \"4C_discharge_from_full_Prada2013\",\n",
    "    \"sei\": \"ramadass2004\",\n",
    "    \"citation\": [\"Chen2020\", \"lain2019design\", \"prada2013simplified\"],\n",
    "}"
   ]
  },
  {
   "cell_type": "code",
   "execution_count": 3,
   "metadata": {},
   "outputs": [],
   "source": [
    "options = {\"sei\": \"ec reaction limited\", \"sei porosity change\": True}\n",
    "param = pb.ParameterValues(chemistry=chemistry)\n",
    "model = pb.lithium_ion.DFN(options)"
   ]
  },
  {
   "cell_type": "code",
   "execution_count": 4,
   "metadata": {},
   "outputs": [],
   "source": [
    "import pandas as pd\n",
    "# Import drive cycle from file\n",
    "drive_cycle = pd.read_csv(\"/home/ubuntu/US06_3.csv\", comment=\"#\", header=None).to_numpy()\n",
    "\n",
    "# Create interpolant\n",
    "timescale = param.evaluate(model.timescale)\n",
    "current_interpolant = pb.Interpolant(drive_cycle, timescale * pb.t)\n",
    "\n",
    "# Set drive cycle\n",
    "param[\"Current function [A]\"] = current_interpolant"
   ]
  },
  {
   "cell_type": "code",
   "execution_count": 5,
   "metadata": {},
   "outputs": [],
   "source": [
    "sim = pb.Simulation(model, parameter_values=param)"
   ]
  },
  {
   "cell_type": "code",
   "execution_count": 6,
   "metadata": {},
   "outputs": [],
   "source": [
    "solver=pb.CasadiSolver(mode=\"safe\", dt_max=1)"
   ]
  },
  {
   "cell_type": "code",
   "execution_count": 7,
   "metadata": {},
   "outputs": [
    {
     "data": {
      "text/plain": [
       "<pybamm.solvers.solution.Solution at 0x7f0ad9b8b780>"
      ]
     },
     "execution_count": 7,
     "metadata": {},
     "output_type": "execute_result"
    }
   ],
   "source": [
    "sim.solve(solver=solver)"
   ]
  },
  {
   "cell_type": "code",
   "execution_count": 9,
   "metadata": {},
   "outputs": [
    {
     "data": {
      "application/vnd.jupyter.widget-view+json": {
       "model_id": "2be30a40ba9046a09fccbadb0557d6cd",
       "version_major": 2,
       "version_minor": 0
      },
      "text/plain": [
       "interactive(children=(FloatSlider(value=0.0, description='t', max=1802.0000000000002, step=18.020000000000003)…"
      ]
     },
     "metadata": {},
     "output_type": "display_data"
    }
   ],
   "source": [
    "sim.plot(\n",
    "    [\n",
    "        \"Current [A]\",\n",
    "        \"Terminal voltage [V]\",\n",
    "        \"Discharge capacity [A.h]\",\n",
    "        \"Loss of lithium to negative electrode sei [mol]\"\n",
    "    ]\n",
    ")"
   ]
  },
  {
   "cell_type": "code",
   "execution_count": 10,
   "metadata": {},
   "outputs": [],
   "source": [
    "sol = sim.solution\n",
    "sol.save_data(\"sol_US06_3.csv\", [\"Current [A]\", \"Terminal voltage [V]\", \"Discharge capacity [A.h]\", \"Loss of lithium to negative electrode sei [mol]\"], to_format=\"csv\")"
   ]
  },
  {
   "cell_type": "markdown",
   "metadata": {},
   "source": [
    "### Try Multiple cycles with Modulo operator"
   ]
  },
  {
   "cell_type": "code",
   "execution_count": 4,
   "metadata": {},
   "outputs": [
    {
     "name": "stdout",
     "output_type": "stream",
     "text": [
      "1802\n"
     ]
    }
   ],
   "source": [
    "# Import drive cycle from file\n",
    "drive_cycle = pd.read_csv(\"/home/ubuntu/US06_3.csv\", comment=\"#\", header=None).to_numpy()\n",
    "\n",
    "cycle_time = drive_cycle.shape[0] - 1\n",
    "print(cycle_time)\n",
    "\n",
    "# Create interpolant\n",
    "timescale = param.evaluate(model.timescale)\n",
    "current_interpolant = pb.Interpolant(drive_cycle, (timescale * pb.t) % cycle_time)\n",
    "\n",
    "# Set drive cycle\n",
    "param[\"Current function [A]\"] = current_interpolant"
   ]
  },
  {
   "cell_type": "code",
   "execution_count": 5,
   "metadata": {},
   "outputs": [],
   "source": [
    "solver=pb.CasadiSolver(mode=\"safe\", dt_max = 1)\n",
    "sim = pb.Simulation(model, parameter_values=param, solver=solver)\n",
    "sim_days = 32"
   ]
  },
  {
   "cell_type": "code",
   "execution_count": null,
   "metadata": {},
   "outputs": [],
   "source": [
    "sim.solve([0, cycle_time * sim_days])"
   ]
  },
  {
   "cell_type": "code",
   "execution_count": 6,
   "metadata": {},
   "outputs": [
    {
     "data": {
      "text/plain": [
       "<pybamm.solvers.solution.Solution at 0x7f9715b5d710>"
      ]
     },
     "execution_count": 6,
     "metadata": {},
     "output_type": "execute_result"
    }
   ],
   "source": [
    "# use this instead to get rid of the warning\n",
    "t_drive = drive_cycle[:, 0]\n",
    "step_size = np.min(np.diff(t_drive))\n",
    "t_eval = np.arange(0, cycle_time * sim_days, step_size)\n",
    "sim.solve(t_eval)\n",
    "# you can play with step_size to change the level of resolution of the drive cycle"
   ]
  },
  {
   "cell_type": "code",
   "execution_count": 7,
   "metadata": {},
   "outputs": [
    {
     "data": {
      "application/vnd.jupyter.widget-view+json": {
       "model_id": "c1544cd94bd34055b673b4758cb70bc8",
       "version_major": 2,
       "version_minor": 0
      },
      "text/plain": [
       "interactive(children=(FloatSlider(value=0.0, description='t', max=1.9163049899388913, step=0.01916304989938891…"
      ]
     },
     "metadata": {},
     "output_type": "display_data"
    }
   ],
   "source": [
    "sim.plot(\n",
    "    [\n",
    "        \"Current [A]\",\n",
    "        \"Total current density [A.m-2]\",\n",
    "        \"Terminal voltage [V]\",\n",
    "        \"Discharge capacity [A.h]\",\n",
    "        \"Loss of lithium to negative electrode sei [mol]\",\n",
    "        \"Local ECM resistance [Ohm]\"\n",
    "    ]\n",
    ")"
   ]
  },
  {
   "cell_type": "code",
   "execution_count": 12,
   "metadata": {},
   "outputs": [
    {
     "data": {
      "application/vnd.jupyter.widget-view+json": {
       "model_id": "dfc6cbb7df6f4f2983fe2e9616878e03",
       "version_major": 2,
       "version_minor": 0
      },
      "text/plain": [
       "interactive(children=(FloatSlider(value=0.0, description='t', max=1.9163049899388913, step=0.01916304989938891…"
      ]
     },
     "metadata": {},
     "output_type": "display_data"
    }
   ],
   "source": [
    "sim.plot(\n",
    "    [\n",
    "        \"Current [A]\",\n",
    "        \"Terminal voltage [V]\",\n",
    "        \"Discharge capacity [A.h]\",\n",
    "        \"Loss of lithium to negative electrode sei [mol]\"\n",
    "    ]\n",
    ")"
   ]
  },
  {
   "cell_type": "code",
   "execution_count": 10,
   "metadata": {},
   "outputs": [],
   "source": [
    "sol = sim.solution\n",
    "sol.save_data(\"sol_US06_1day.csv\", [\"Current [A]\", \"Terminal voltage [V]\", \"Discharge capacity [A.h]\", \"Loss of lithium to negative electrode sei [mol]\", \"Local ECM resistance [Ohm]\"], to_format= \"csv\")"
   ]
  }
 ],
 "metadata": {
  "kernelspec": {
   "display_name": "Environment (conda_pytorch_p36)",
   "language": "python",
   "name": "conda_pytorch_p36"
  },
  "language_info": {
   "codemirror_mode": {
    "name": "ipython",
    "version": 3
   },
   "file_extension": ".py",
   "mimetype": "text/x-python",
   "name": "python",
   "nbconvert_exporter": "python",
   "pygments_lexer": "ipython3",
   "version": "3.6.10"
  }
 },
 "nbformat": 4,
 "nbformat_minor": 4
}
